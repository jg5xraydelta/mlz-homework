{
 "cells": [
  {
   "cell_type": "code",
   "execution_count": 4,
   "id": "1031af0b-61b4-42e6-a61f-77993476068e",
   "metadata": {},
   "outputs": [],
   "source": [
    "import pandas as pd\n",
    "import numpy as np\n",
    "from sklearn.metrics import mutual_info_score\n",
    "import random as rm"
   ]
  },
  {
   "cell_type": "code",
   "execution_count": 5,
   "id": "ac4eca10-2090-487b-b389-eff86c61494f",
   "metadata": {},
   "outputs": [],
   "source": [
    "A = [0,1,0,1,0,1,1,0,0,0]\n",
    "B = [0,0,0,1,0,1,1,0,0,0]\n",
    "C = [0,0,0,0,0,0,0,0,0,0]\n",
    "D = [1,1,1,1,1,1,1,1,1,1]"
   ]
  },
  {
   "cell_type": "markdown",
   "id": "b36a43c1-ecf9-4865-9b74-f17c83af79c5",
   "metadata": {},
   "source": [
    "E = []\n",
    "for x in range(0,10):\n",
    "    E.append(rm.randint(0,10))\n",
    "E"
   ]
  },
  {
   "cell_type": "code",
   "execution_count": 9,
   "id": "b19d2bd9-24ef-4c70-9765-3723c5948c96",
   "metadata": {},
   "outputs": [],
   "source": [
    "F = E"
   ]
  },
  {
   "cell_type": "code",
   "execution_count": 12,
   "id": "cf0264c9-c8f4-4beb-8275-e877f51b6315",
   "metadata": {},
   "outputs": [
    {
     "data": {
      "text/plain": [
       "[9, 5, 3, 0, 1, 8, 10, 9, 9, 0]"
      ]
     },
     "execution_count": 12,
     "metadata": {},
     "output_type": "execute_result"
    }
   ],
   "source": [
    "E"
   ]
  },
  {
   "cell_type": "code",
   "execution_count": 13,
   "id": "342510ed-8c85-4fca-be9c-535b2733dbe0",
   "metadata": {},
   "outputs": [
    {
     "data": {
      "text/plain": [
       "[2, 4, 3, 6, 4, 2, 5, 9, 3, 5]"
      ]
     },
     "execution_count": 13,
     "metadata": {},
     "output_type": "execute_result"
    }
   ],
   "source": [
    "F"
   ]
  },
  {
   "cell_type": "code",
   "execution_count": 14,
   "id": "e0a92d0e-c138-4b69-a03e-afb706365eaf",
   "metadata": {},
   "outputs": [
    {
     "data": {
      "text/plain": [
       "1.2798542258336676"
      ]
     },
     "execution_count": 14,
     "metadata": {},
     "output_type": "execute_result"
    }
   ],
   "source": [
    "mutual_info_score(E,F) # lists of 10 random numbers"
   ]
  },
  {
   "cell_type": "code",
   "execution_count": 15,
   "id": "293bb751-7c42-4ca1-8c64-56ae988e1e07",
   "metadata": {},
   "outputs": [
    {
     "data": {
      "text/plain": [
       "0.3859302442073702"
      ]
     },
     "execution_count": 15,
     "metadata": {},
     "output_type": "execute_result"
    }
   ],
   "source": [
    "mutual_info_score(A,B) # lists with 10 0's and 1's with only one difference"
   ]
  },
  {
   "cell_type": "code",
   "execution_count": 16,
   "id": "d37254c0-bb79-4d0a-8f62-3e08f9649b06",
   "metadata": {},
   "outputs": [
    {
     "data": {
      "text/plain": [
       "0.0"
      ]
     },
     "execution_count": 16,
     "metadata": {},
     "output_type": "execute_result"
    }
   ],
   "source": [
    "mutual_info_score(A,C) # list of 0's and 1's compared to a list of all 0's"
   ]
  },
  {
   "cell_type": "code",
   "execution_count": 17,
   "id": "1baedbd8-2c6b-4467-8f61-73ca3c3c7cfc",
   "metadata": {},
   "outputs": [
    {
     "data": {
      "text/plain": [
       "0.0"
      ]
     },
     "execution_count": 17,
     "metadata": {},
     "output_type": "execute_result"
    }
   ],
   "source": [
    "mutual_info_score(A,D) # list of 0's and 1's compared to a list of all 1's"
   ]
  },
  {
   "cell_type": "code",
   "execution_count": 18,
   "id": "fc050f6b-2e0b-4d6e-82fd-acb2ca9f00f3",
   "metadata": {},
   "outputs": [
    {
     "data": {
      "text/plain": [
       "0.0"
      ]
     },
     "execution_count": 18,
     "metadata": {},
     "output_type": "execute_result"
    }
   ],
   "source": [
    "mutual_info_score(C,D) # list of all 0's compared to list of all 1's"
   ]
  },
  {
   "cell_type": "code",
   "execution_count": 19,
   "id": "79d1eb38-39a0-4d10-b336-6edbe9c28e41",
   "metadata": {},
   "outputs": [
    {
     "data": {
      "text/plain": [
       "0.5343822308972677"
      ]
     },
     "execution_count": 19,
     "metadata": {},
     "output_type": "execute_result"
    }
   ],
   "source": [
    "mutual_info_score(A,E) # list of 0's and 1's compared to list of randoms"
   ]
  },
  {
   "cell_type": "code",
   "execution_count": 21,
   "id": "a5c88004-deb1-47c9-8889-796fb0ad0e44",
   "metadata": {},
   "outputs": [
    {
     "data": {
      "text/plain": [
       "0.2571233586732894"
      ]
     },
     "execution_count": 21,
     "metadata": {},
     "output_type": "execute_result"
    }
   ],
   "source": [
    "mutual_info_score(A,F) # list of 0's and 1's compared to differenct list of randoms"
   ]
  },
  {
   "cell_type": "code",
   "execution_count": 22,
   "id": "c9a9f157-96f6-4b13-9aa6-53581e84f3e1",
   "metadata": {},
   "outputs": [
    {
     "data": {
      "text/plain": [
       "0.6730116670092567"
      ]
     },
     "execution_count": 22,
     "metadata": {},
     "output_type": "execute_result"
    }
   ],
   "source": [
    "mutual_info_score(A,A)"
   ]
  },
  {
   "cell_type": "code",
   "execution_count": 23,
   "id": "7d8134c1-57f8-44f7-8f28-e21a59806588",
   "metadata": {},
   "outputs": [
    {
     "data": {
      "text/plain": [
       "1.834371970281624"
      ]
     },
     "execution_count": 23,
     "metadata": {},
     "output_type": "execute_result"
    }
   ],
   "source": [
    "mutual_info_score(E,E)"
   ]
  },
  {
   "cell_type": "code",
   "execution_count": 24,
   "id": "a79a9236-2a5a-49e8-b083-32faaae8364e",
   "metadata": {},
   "outputs": [
    {
     "data": {
      "text/plain": [
       "1.7480673485460896"
      ]
     },
     "execution_count": 24,
     "metadata": {},
     "output_type": "execute_result"
    }
   ],
   "source": [
    "mutual_info_score(F,F)"
   ]
  },
  {
   "cell_type": "code",
   "execution_count": null,
   "id": "d225b157-a10f-4eb7-a01c-50e85ced4e25",
   "metadata": {},
   "outputs": [],
   "source": []
  }
 ],
 "metadata": {
  "kernelspec": {
   "display_name": "Python 3 (ipykernel)",
   "language": "python",
   "name": "python3"
  },
  "language_info": {
   "codemirror_mode": {
    "name": "ipython",
    "version": 3
   },
   "file_extension": ".py",
   "mimetype": "text/x-python",
   "name": "python",
   "nbconvert_exporter": "python",
   "pygments_lexer": "ipython3",
   "version": "3.12.3"
  }
 },
 "nbformat": 4,
 "nbformat_minor": 5
}
