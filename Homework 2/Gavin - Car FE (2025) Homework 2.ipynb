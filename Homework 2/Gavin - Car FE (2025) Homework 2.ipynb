{
 "cells": [
  {
   "cell_type": "code",
   "execution_count": 4,
   "id": "1eed0c66-8985-4abe-ac1a-cba264dcc2ba",
   "metadata": {},
   "outputs": [],
   "source": [
    "import pandas as pd\n",
    "import numpy as np\n",
    "import matplotlib as plt\n",
    "import seaborn as sns\n",
    "import sklearn as sk"
   ]
  },
  {
   "cell_type": "code",
   "execution_count": 5,
   "id": "e38975b1-17e1-4128-9dcd-eb1a0ef3db38",
   "metadata": {},
   "outputs": [
    {
     "name": "stdout",
     "output_type": "stream",
     "text": [
      "--2025-09-30 15:08:27--  https://raw.githubusercontent.com/alexeygrigorev/datasets/master/car_fuel_efficiency.csv\n",
      "Resolving raw.githubusercontent.com (raw.githubusercontent.com)... 185.199.109.133, 185.199.108.133, 185.199.110.133, ...\n",
      "Connecting to raw.githubusercontent.com (raw.githubusercontent.com)|185.199.109.133|:443... connected.\n",
      "HTTP request sent, awaiting response... 200 OK\n",
      "Length: 874188 (854K) [text/plain]\n",
      "Saving to: ‘data.csv’\n",
      "\n",
      "data.csv            100%[===================>] 853.70K  --.-KB/s    in 0.05s   \n",
      "\n",
      "2025-09-30 15:08:27 (17.2 MB/s) - ‘data.csv’ saved [874188/874188]\n",
      "\n"
     ]
    }
   ],
   "source": [
    "!wget -O data.csv https://raw.githubusercontent.com/alexeygrigorev/datasets/master/car_fuel_efficiency.csv"
   ]
  },
  {
   "cell_type": "code",
   "execution_count": 6,
   "id": "0d24ec04-c522-4dc2-8859-5475190ffddd",
   "metadata": {},
   "outputs": [],
   "source": [
    "data = pd.read_csv('data.csv')"
   ]
  },
  {
   "cell_type": "code",
   "execution_count": 7,
   "id": "19adbd84-f891-4326-822d-aa1430435de3",
   "metadata": {},
   "outputs": [],
   "source": [
    "df = pd.DataFrame(data)"
   ]
  },
  {
   "cell_type": "code",
   "execution_count": 8,
   "id": "930e26db-b367-4047-9458-6f794cecbc6b",
   "metadata": {},
   "outputs": [
    {
     "data": {
      "text/html": [
       "<div>\n",
       "<style scoped>\n",
       "    .dataframe tbody tr th:only-of-type {\n",
       "        vertical-align: middle;\n",
       "    }\n",
       "\n",
       "    .dataframe tbody tr th {\n",
       "        vertical-align: top;\n",
       "    }\n",
       "\n",
       "    .dataframe thead th {\n",
       "        text-align: right;\n",
       "    }\n",
       "</style>\n",
       "<table border=\"1\" class=\"dataframe\">\n",
       "  <thead>\n",
       "    <tr style=\"text-align: right;\">\n",
       "      <th></th>\n",
       "      <th>engine_displacement</th>\n",
       "      <th>num_cylinders</th>\n",
       "      <th>horsepower</th>\n",
       "      <th>vehicle_weight</th>\n",
       "      <th>acceleration</th>\n",
       "      <th>model_year</th>\n",
       "      <th>origin</th>\n",
       "      <th>fuel_type</th>\n",
       "      <th>drivetrain</th>\n",
       "      <th>num_doors</th>\n",
       "      <th>fuel_efficiency_mpg</th>\n",
       "    </tr>\n",
       "  </thead>\n",
       "  <tbody>\n",
       "    <tr>\n",
       "      <th>0</th>\n",
       "      <td>170</td>\n",
       "      <td>3.0</td>\n",
       "      <td>159.0</td>\n",
       "      <td>3413.433759</td>\n",
       "      <td>17.7</td>\n",
       "      <td>2003</td>\n",
       "      <td>Europe</td>\n",
       "      <td>Gasoline</td>\n",
       "      <td>All-wheel drive</td>\n",
       "      <td>0.0</td>\n",
       "      <td>13.231729</td>\n",
       "    </tr>\n",
       "    <tr>\n",
       "      <th>1</th>\n",
       "      <td>130</td>\n",
       "      <td>5.0</td>\n",
       "      <td>97.0</td>\n",
       "      <td>3149.664934</td>\n",
       "      <td>17.8</td>\n",
       "      <td>2007</td>\n",
       "      <td>USA</td>\n",
       "      <td>Gasoline</td>\n",
       "      <td>Front-wheel drive</td>\n",
       "      <td>0.0</td>\n",
       "      <td>13.688217</td>\n",
       "    </tr>\n",
       "    <tr>\n",
       "      <th>2</th>\n",
       "      <td>170</td>\n",
       "      <td>NaN</td>\n",
       "      <td>78.0</td>\n",
       "      <td>3079.038997</td>\n",
       "      <td>15.1</td>\n",
       "      <td>2018</td>\n",
       "      <td>Europe</td>\n",
       "      <td>Gasoline</td>\n",
       "      <td>Front-wheel drive</td>\n",
       "      <td>0.0</td>\n",
       "      <td>14.246341</td>\n",
       "    </tr>\n",
       "    <tr>\n",
       "      <th>3</th>\n",
       "      <td>220</td>\n",
       "      <td>4.0</td>\n",
       "      <td>NaN</td>\n",
       "      <td>2542.392402</td>\n",
       "      <td>20.2</td>\n",
       "      <td>2009</td>\n",
       "      <td>USA</td>\n",
       "      <td>Diesel</td>\n",
       "      <td>All-wheel drive</td>\n",
       "      <td>2.0</td>\n",
       "      <td>16.912736</td>\n",
       "    </tr>\n",
       "    <tr>\n",
       "      <th>4</th>\n",
       "      <td>210</td>\n",
       "      <td>1.0</td>\n",
       "      <td>140.0</td>\n",
       "      <td>3460.870990</td>\n",
       "      <td>14.4</td>\n",
       "      <td>2009</td>\n",
       "      <td>Europe</td>\n",
       "      <td>Gasoline</td>\n",
       "      <td>All-wheel drive</td>\n",
       "      <td>2.0</td>\n",
       "      <td>12.488369</td>\n",
       "    </tr>\n",
       "    <tr>\n",
       "      <th>...</th>\n",
       "      <td>...</td>\n",
       "      <td>...</td>\n",
       "      <td>...</td>\n",
       "      <td>...</td>\n",
       "      <td>...</td>\n",
       "      <td>...</td>\n",
       "      <td>...</td>\n",
       "      <td>...</td>\n",
       "      <td>...</td>\n",
       "      <td>...</td>\n",
       "      <td>...</td>\n",
       "    </tr>\n",
       "    <tr>\n",
       "      <th>9699</th>\n",
       "      <td>140</td>\n",
       "      <td>5.0</td>\n",
       "      <td>164.0</td>\n",
       "      <td>2981.107371</td>\n",
       "      <td>17.3</td>\n",
       "      <td>2013</td>\n",
       "      <td>Europe</td>\n",
       "      <td>Diesel</td>\n",
       "      <td>Front-wheel drive</td>\n",
       "      <td>NaN</td>\n",
       "      <td>15.101802</td>\n",
       "    </tr>\n",
       "    <tr>\n",
       "      <th>9700</th>\n",
       "      <td>180</td>\n",
       "      <td>NaN</td>\n",
       "      <td>154.0</td>\n",
       "      <td>2439.525729</td>\n",
       "      <td>15.0</td>\n",
       "      <td>2004</td>\n",
       "      <td>USA</td>\n",
       "      <td>Gasoline</td>\n",
       "      <td>All-wheel drive</td>\n",
       "      <td>0.0</td>\n",
       "      <td>17.962326</td>\n",
       "    </tr>\n",
       "    <tr>\n",
       "      <th>9701</th>\n",
       "      <td>220</td>\n",
       "      <td>2.0</td>\n",
       "      <td>138.0</td>\n",
       "      <td>2583.471318</td>\n",
       "      <td>15.1</td>\n",
       "      <td>2008</td>\n",
       "      <td>USA</td>\n",
       "      <td>Diesel</td>\n",
       "      <td>All-wheel drive</td>\n",
       "      <td>-1.0</td>\n",
       "      <td>17.186587</td>\n",
       "    </tr>\n",
       "    <tr>\n",
       "      <th>9702</th>\n",
       "      <td>230</td>\n",
       "      <td>4.0</td>\n",
       "      <td>177.0</td>\n",
       "      <td>2905.527390</td>\n",
       "      <td>19.4</td>\n",
       "      <td>2011</td>\n",
       "      <td>USA</td>\n",
       "      <td>Diesel</td>\n",
       "      <td>Front-wheel drive</td>\n",
       "      <td>1.0</td>\n",
       "      <td>15.331551</td>\n",
       "    </tr>\n",
       "    <tr>\n",
       "      <th>9703</th>\n",
       "      <td>270</td>\n",
       "      <td>3.0</td>\n",
       "      <td>140.0</td>\n",
       "      <td>2908.043477</td>\n",
       "      <td>14.7</td>\n",
       "      <td>2005</td>\n",
       "      <td>Asia</td>\n",
       "      <td>Diesel</td>\n",
       "      <td>All-wheel drive</td>\n",
       "      <td>-1.0</td>\n",
       "      <td>14.884467</td>\n",
       "    </tr>\n",
       "  </tbody>\n",
       "</table>\n",
       "<p>9704 rows × 11 columns</p>\n",
       "</div>"
      ],
      "text/plain": [
       "      engine_displacement  num_cylinders  horsepower  vehicle_weight  \\\n",
       "0                     170            3.0       159.0     3413.433759   \n",
       "1                     130            5.0        97.0     3149.664934   \n",
       "2                     170            NaN        78.0     3079.038997   \n",
       "3                     220            4.0         NaN     2542.392402   \n",
       "4                     210            1.0       140.0     3460.870990   \n",
       "...                   ...            ...         ...             ...   \n",
       "9699                  140            5.0       164.0     2981.107371   \n",
       "9700                  180            NaN       154.0     2439.525729   \n",
       "9701                  220            2.0       138.0     2583.471318   \n",
       "9702                  230            4.0       177.0     2905.527390   \n",
       "9703                  270            3.0       140.0     2908.043477   \n",
       "\n",
       "      acceleration  model_year  origin fuel_type         drivetrain  \\\n",
       "0             17.7        2003  Europe  Gasoline    All-wheel drive   \n",
       "1             17.8        2007     USA  Gasoline  Front-wheel drive   \n",
       "2             15.1        2018  Europe  Gasoline  Front-wheel drive   \n",
       "3             20.2        2009     USA    Diesel    All-wheel drive   \n",
       "4             14.4        2009  Europe  Gasoline    All-wheel drive   \n",
       "...            ...         ...     ...       ...                ...   \n",
       "9699          17.3        2013  Europe    Diesel  Front-wheel drive   \n",
       "9700          15.0        2004     USA  Gasoline    All-wheel drive   \n",
       "9701          15.1        2008     USA    Diesel    All-wheel drive   \n",
       "9702          19.4        2011     USA    Diesel  Front-wheel drive   \n",
       "9703          14.7        2005    Asia    Diesel    All-wheel drive   \n",
       "\n",
       "      num_doors  fuel_efficiency_mpg  \n",
       "0           0.0            13.231729  \n",
       "1           0.0            13.688217  \n",
       "2           0.0            14.246341  \n",
       "3           2.0            16.912736  \n",
       "4           2.0            12.488369  \n",
       "...         ...                  ...  \n",
       "9699        NaN            15.101802  \n",
       "9700        0.0            17.962326  \n",
       "9701       -1.0            17.186587  \n",
       "9702        1.0            15.331551  \n",
       "9703       -1.0            14.884467  \n",
       "\n",
       "[9704 rows x 11 columns]"
      ]
     },
     "execution_count": 8,
     "metadata": {},
     "output_type": "execute_result"
    }
   ],
   "source": [
    "df"
   ]
  },
  {
   "cell_type": "code",
   "execution_count": 9,
   "id": "c0228ab7-aaee-4ab8-97f1-f0d149824ae5",
   "metadata": {},
   "outputs": [
    {
     "data": {
      "text/plain": [
       "Index(['engine_displacement', 'num_cylinders', 'horsepower', 'vehicle_weight',\n",
       "       'acceleration', 'model_year', 'origin', 'fuel_type', 'drivetrain',\n",
       "       'num_doors', 'fuel_efficiency_mpg'],\n",
       "      dtype='object')"
      ]
     },
     "execution_count": 9,
     "metadata": {},
     "output_type": "execute_result"
    }
   ],
   "source": [
    "df.columns"
   ]
  },
  {
   "cell_type": "code",
   "execution_count": 31,
   "id": "f42a59d9-5b09-4da7-b93f-67acdb2b8d63",
   "metadata": {},
   "outputs": [],
   "source": [
    "base = ['engine_displacement', 'horsepower', 'vehicle_weight', 'model_year']\n",
    "target = ['fuel_eficiency_mpg']"
   ]
  },
  {
   "cell_type": "code",
   "execution_count": 32,
   "id": "76a6b359-2578-4d6f-8466-dab4383ee574",
   "metadata": {},
   "outputs": [
    {
     "data": {
      "text/plain": [
       "engine_displacement      0\n",
       "horsepower             708\n",
       "vehicle_weight           0\n",
       "model_year               0\n",
       "dtype: int64"
      ]
     },
     "execution_count": 32,
     "metadata": {},
     "output_type": "execute_result"
    }
   ],
   "source": [
    "df[base].isnull().sum()"
   ]
  },
  {
   "cell_type": "code",
   "execution_count": 25,
   "id": "4c00a1c8-93a4-4110-b624-1a523e353469",
   "metadata": {},
   "outputs": [
    {
     "data": {
      "text/plain": [
       "np.int64(0)"
      ]
     },
     "execution_count": 25,
     "metadata": {},
     "output_type": "execute_result"
    }
   ],
   "source": [
    "df.fuel_efficiency_mpg.isnull().sum()"
   ]
  },
  {
   "cell_type": "code",
   "execution_count": 24,
   "id": "04646cd2-750d-4a14-a0c7-7ed863e48da9",
   "metadata": {},
   "outputs": [
    {
     "data": {
      "text/plain": [
       "<Axes: xlabel='fuel_efficiency_mpg', ylabel='Count'>"
      ]
     },
     "execution_count": 24,
     "metadata": {},
     "output_type": "execute_result"
    },
    {
     "data": {
      "image/png": "[encoded data removed]",
      "text/plain": [
       "<Figure size 640x480 with 1 Axes>"
      ]
     },
     "metadata": {},
     "output_type": "display_data"
    }
   ],
   "source": [
    "%matplotlib inline\n",
    "sns.histplot(df.fuel_efficiency_mpg, bins=20)"
   ]
  },
  {
   "cell_type": "markdown",
   "id": "91a5d2d5-78ee-460a-a8e9-fef01872c0bb",
   "metadata": {},
   "source": [
    "## __Question 1__\n",
    "There's one column with missing values. What is it?"
   ]
  },
  {
   "cell_type": "markdown",
   "id": "ac6b4b24-0482-40bf-843c-d7a0c60e354f",
   "metadata": {},
   "source": [
    "__ANSWER:__ Horsepower"
   ]
  },
  {
   "cell_type": "markdown",
   "id": "cc10fcb0-f62c-4d8a-92d6-cffc7c07d9cd",
   "metadata": {},
   "source": [
    "## __Question 2__\n",
    "What's the median (50% percentile) for variable 'horsepower'?"
   ]
  },
  {
   "cell_type": "code",
   "execution_count": 30,
   "id": "55a62716-549e-4a25-9d1f-b249f732fceb",
   "metadata": {},
   "outputs": [
    {
     "data": {
      "text/plain": [
       "149.0"
      ]
     },
     "execution_count": 30,
     "metadata": {},
     "output_type": "execute_result"
    }
   ],
   "source": [
    "df[df['horsepower'].isnull()==False].horsepower.median()"
   ]
  },
  {
   "cell_type": "markdown",
   "id": "49ee2627-a271-48bb-8d80-5d0a26c4640b",
   "metadata": {},
   "source": [
    "__ANSWER:__ 149.0"
   ]
  },
  {
   "cell_type": "markdown",
   "id": "0e4b1416-4c6f-47df-8365-aad2651710ac",
   "metadata": {},
   "source": [
    "## __Question 3__\n",
    "We need to deal with missing values for the column from Q1.<br>\n",
    "We have two options: fill it with 0 or with the mean of this variable.<br>\n",
    "Try both options. For each, train a linear regression model without regularization using the code from the lessons.<br>\n",
    "For computing the mean, use the training only!<br>\n",
    "Use the validation dataset to evaluate the models and compare the RMSE of each option.<br>\n",
    "Round the RMSE scores to 2 decimal digits using round(score, 2)<br>\n",
    "Which option gives better RMSE?<br>\n",
    "Options: With 0 / With mean / Both are equally good"
   ]
  },
  {
   "cell_type": "code",
   "execution_count": 34,
   "id": "56162a6b-4dc5-4902-abef-406643527ca3",
   "metadata": {},
   "outputs": [],
   "source": [
    "np.random.seed(42)\n",
    "\n",
    "def tvt_data(df):\n",
    "    n = len(df)\n",
    "    \n",
    "    n_val = int(0.2 * n)\n",
    "    n_test = int(0.2 * n)\n",
    "    n_train = n - (n_val + n_test)\n",
    "    \n",
    "    idx = np.arange(n)\n",
    "    np.random.shuffle(idx)\n",
    "    \n",
    "    df_shuffled = df.iloc[idx]\n",
    "    \n",
    "    df_train = df_shuffled.iloc[:n_train].copy()\n",
    "    df_val = df_shuffled.iloc[n_train:n_train+n_val].copy()\n",
    "    df_test = df_shuffled.iloc[n_train+n_val:].copy()\n",
    "    return df_train, df_val, df_test\n",
    "\n",
    "df_train, df_val, df_test = tvt_data(df)"
   ]
  },
  {
   "cell_type": "code",
   "execution_count": 36,
   "id": "0355f1d5-c769-4575-b76e-366230177caf",
   "metadata": {},
   "outputs": [],
   "source": [
    "def set_target(df_train, df_val, df_test):\n",
    "    y_train_orig = df_train.fuel_efficiency_mpg.values\n",
    "    y_val_orig = df_val.fuel_efficiency_mpg.values\n",
    "    y_test_orig = df_test.fuel_efficiency_mpg.values\n",
    "    \n",
    "    y_train = df_train.fuel_efficiency_mpg.values\n",
    "    y_val = df_val.fuel_efficiency_mpg.values\n",
    "    y_test = df_test.fuel_efficiency_mpg.values\n",
    "    \n",
    "    del df_train['fuel_efficiency_mpg']\n",
    "    del df_val['fuel_efficiency_mpg']\n",
    "    del df_test['fuel_efficiency_mpg']\n",
    "    return y_train, y_val, y_test\n",
    "\n",
    "y_train, y_val, y_test = set_target(df_train, df_val, df_test)"
   ]
  },
  {
   "cell_type": "code",
   "execution_count": 39,
   "id": "bb44ecc0-f14e-4a76-b352-d49ea0d3fb94",
   "metadata": {},
   "outputs": [],
   "source": [
    "def train_linear_regression(X, y):\n",
    "    ones = np.ones(X.shape[0])\n",
    "    X = np.column_stack([ones, X])\n",
    "\n",
    "    XTX = X.T.dot(X)\n",
    "    XTX_inv = np.linalg.inv(XTX)\n",
    "    w = XTX_inv.dot(X.T).dot(y)\n",
    "    \n",
    "    return w[0], w[1:]"
   ]
  },
  {
   "cell_type": "code",
   "execution_count": 33,
   "id": "cb9413ed-0c42-4782-9335-367a90000da6",
   "metadata": {},
   "outputs": [
    {
     "data": {
      "text/plain": [
       "np.float64(149.65729212983547)"
      ]
     },
     "execution_count": 33,
     "metadata": {},
     "output_type": "execute_result"
    }
   ],
   "source": [
    "df[df['horsepower'].isnull()==False].horsepower.mean()"
   ]
  },
  {
   "cell_type": "code",
   "execution_count": 60,
   "id": "f34d3a31-8db1-4b1f-a4ca-da35a50d3414",
   "metadata": {},
   "outputs": [],
   "source": [
    "def prepare_X(df):\n",
    "    df = df.copy()\n",
    "    features = base.copy()\n",
    "    \n",
    "    df_num = df[features]\n",
    "    df_num = df_num.fillna(0)\n",
    "    X = df_num.values\n",
    "    return X"
   ]
  },
  {
   "cell_type": "code",
   "execution_count": 45,
   "id": "eebe468e-233c-43bb-b815-7dfb47781ae7",
   "metadata": {},
   "outputs": [],
   "source": [
    "X_train = prepare_X(df_train)\n",
    "w_0, w = train_linear_regression(X_train, y_train)"
   ]
  },
  {
   "cell_type": "code",
   "execution_count": 46,
   "id": "b0ee8226-c684-4a72-bdb9-6d3528418e2b",
   "metadata": {},
   "outputs": [],
   "source": [
    "def rmse(y, y_pred):\n",
    "    error = y_pred - y\n",
    "    mse = (error ** 2).mean()\n",
    "    return np.sqrt(mse)"
   ]
  },
  {
   "cell_type": "code",
   "execution_count": 47,
   "id": "e0c806af-ddaf-4cf3-b925-5073af33574f",
   "metadata": {},
   "outputs": [
    {
     "name": "stdout",
     "output_type": "stream",
     "text": [
      "train: 0.46\n",
      "validation: 0.46\n"
     ]
    }
   ],
   "source": [
    "X_train = prepare_X(df_train)\n",
    "w_0, w = train_linear_regression(X_train, y_train)\n",
    "\n",
    "y_pred = w_0 + X_train.dot(w)\n",
    "print('train:', rmse(y_train, y_pred).round(2))\n",
    "\n",
    "X_val = prepare_X(df_val)\n",
    "y_pred = w_0 + X_val.dot(w)\n",
    "print('validation:', rmse(y_val, y_pred).round(2))"
   ]
  },
  {
   "cell_type": "markdown",
   "id": "2f87b002-283e-46e5-ad96-54140295ec79",
   "metadata": {},
   "source": [
    "__Replace nulls with 0:__ train: 0.52 / validation: 0.52 <br>\n",
    "__Replace nulls with Mean:__ train: 0.46 / validation: 0.46"
   ]
  },
  {
   "cell_type": "markdown",
   "id": "d71cadf7-f176-448b-83e1-100f426bb80b",
   "metadata": {},
   "source": [
    "__ANSWER:__ The mean yields a better RMSE."
   ]
  },
  {
   "cell_type": "markdown",
   "id": "f922aabb-f605-4b94-9310-a950985f52b3",
   "metadata": {},
   "source": [
    "## __Question 4__\n",
    "Now let's train a regularized linear regression. <br>\n",
    "For this question, fill the NAs with 0.<br>\n",
    "Try different values of r from this list: [0, 0.01, 0.1, 1, 5, 10, 100].<br>\n",
    "Use RMSE to evaluate the model on the validation dataset.<br>\n",
    "Round the RMSE scores to 2 decimal digits.<br>\n",
    "Which r gives the best RMSE?<br>\n",
    "If there are multiple options, select the smallest r.<br>\n",
    "Options: 0 / 0.01 / 1 / 10 / 100"
   ]
  },
  {
   "cell_type": "code",
   "execution_count": 49,
   "id": "ebf6e6d6-16aa-4fec-b506-bba15ddd4880",
   "metadata": {},
   "outputs": [],
   "source": [
    "def train_linear_regression_reg(X, y, r=0.0):\n",
    "    ones = np.ones(X.shape[0])\n",
    "    X = np.column_stack([ones, X])\n",
    "\n",
    "    XTX = X.T.dot(X)\n",
    "    reg = r * np.eye(XTX.shape[0])\n",
    "    XTX = XTX + reg\n",
    "\n",
    "    XTX_inv = np.linalg.inv(XTX)\n",
    "    w = XTX_inv.dot(X.T).dot(y)\n",
    "    \n",
    "    return w[0], w[1:]"
   ]
  },
  {
   "cell_type": "code",
   "execution_count": 50,
   "id": "65a95ced-1dba-4682-9124-c0755752358a",
   "metadata": {},
   "outputs": [
    {
     "name": "stdout",
     "output_type": "stream",
     "text": [
      "     0 0.464\n",
      "  0.01 0.463\n",
      "     1 0.469\n",
      "    10 0.47\n",
      "   100 0.47\n"
     ]
    }
   ],
   "source": [
    "X_train = prepare_X(df_train)\n",
    "X_val = prepare_X(df_val)\n",
    "\n",
    "for r in [0, 0.01, 1, 10, 100]:\n",
    "    w_0, w = train_linear_regression_reg(X_train, y_train, r=r)\n",
    "    y_pred = w_0 + X_val.dot(w)\n",
    "    print('%6s' %r, rmse(y_val, y_pred).round(3))"
   ]
  },
  {
   "cell_type": "markdown",
   "id": "0c7ac05b-f8ca-4fe8-8130-a5935fee20f8",
   "metadata": {},
   "source": [
    "__ANSWER:__ An r value of 0.01 yields a better RMSE."
   ]
  },
  {
   "cell_type": "markdown",
   "id": "8b21f6ab-9e27-4a47-be68-22e7bc2f35d3",
   "metadata": {},
   "source": [
    "## __Question 5__\n",
    "We used seed 42 for splitting the data. Let's find out how selecting the seed influences our score. <br>\n",
    "Try different seed values: [0, 1, 2, 3, 4, 5, 6, 7, 8, 9].<br>\n",
    "For each seed, do the train/validation/test split with 60%/20%/20% distribution.<br>\n",
    "Fill the missing values with 0 and train a model without regularization.<br>\n",
    "For each seed, evaluate the model on the validation dataset and collect the RMSE scores.<br>\n",
    "What's the standard deviation of all the scores? To compute the standard deviation, use np.std.<br>\n",
    "Round the result to 3 decimal digits (round(std, 3))<br>\n",
    "What's the value of std? 0.001 / 0.006 / 0.060 / 0.600"
   ]
  },
  {
   "cell_type": "code",
   "execution_count": 55,
   "id": "2ae5b523-37a2-47ce-94b5-4cf83e04377c",
   "metadata": {},
   "outputs": [],
   "source": [
    "def model(seed):\n",
    "    np.random.seed(seed)\n",
    "    data = pd.read_csv('data.csv')\n",
    "    df = pd.DataFrame(data)\n",
    "    df.columns = df.columns.str.lower().str.replace(' ', '_')\n",
    "    \n",
    "    df_train,df_val,df_test = tvt_data(df)\n",
    "    y_train, y_val, y_test = set_target(df_train, df_val, df_test)\n",
    "    base = ['engine_displacement', 'horsepower', 'vehicle_weight', 'model_year']\n",
    "    \n",
    "    X_train = prepare_X(df_train)\n",
    "    w_0, w = train_linear_regression(X_train, y_train)\n",
    "    \n",
    "    y_pred = w_0 + X_train.dot(w)\n",
    "    rmse_train = rmse(y_train, y_pred).round(3)\n",
    "    #print('train:', rmse_train )\n",
    "    \n",
    "    X_val = prepare_X(df_val)\n",
    "    y_pred = w_0 + X_val.dot(w)\n",
    "    rmse_val = rmse(y_val, y_pred).round(3)\n",
    "    #print('validation:', rmse_val)\n",
    "    return rmse_train.item(), rmse_val.item()"
   ]
  },
  {
   "cell_type": "code",
   "execution_count": 56,
   "id": "22c29de9-1fe0-4d91-8e71-ad897880e0ad",
   "metadata": {},
   "outputs": [],
   "source": [
    "scores = []\n",
    "score = model(0)\n",
    "\n",
    "for seed in [0, 1, 2, 3, 4, 5, 6, 7, 8, 9]:\n",
    "    score = model(seed)\n",
    "    scores.append(score[1])"
   ]
  },
  {
   "cell_type": "code",
   "execution_count": 57,
   "id": "0bd0808d-21d4-4e24-80f7-b75d3d787e49",
   "metadata": {},
   "outputs": [
    {
     "data": {
      "text/plain": [
       "0.006"
      ]
     },
     "execution_count": 57,
     "metadata": {},
     "output_type": "execute_result"
    }
   ],
   "source": [
    "np.std(scores).round(3).item()"
   ]
  },
  {
   "cell_type": "markdown",
   "id": "60f2eb39-df69-457c-b214-ee90e40e0da2",
   "metadata": {},
   "source": [
    "__ANSWER:__ The standard deviation of the scores is 0.006."
   ]
  },
  {
   "cell_type": "markdown",
   "id": "bc2e0213-bf27-4a48-8bfa-8d5aa4d68d34",
   "metadata": {},
   "source": [
    "## __Question 6__\n",
    "Split the dataset like previously, use seed 9.<br>\n",
    "Combine train and validation datasets.<br>\n",
    "Fill the missing values with 0 and train a model with r=0.001.<br>\n",
    "What's the RMSE on the test dataset?<br>\n",
    "Options: 0.15 / 0.515 / 5.15 / 51.5"
   ]
  },
  {
   "cell_type": "code",
   "execution_count": 61,
   "id": "0dee47e4-4e9c-4f6b-bd91-9dd99b2be95c",
   "metadata": {},
   "outputs": [
    {
     "data": {
      "text/plain": [
       "0.5156261299169602"
      ]
     },
     "execution_count": 61,
     "metadata": {},
     "output_type": "execute_result"
    }
   ],
   "source": [
    "def model_reg(seed, reg):\n",
    "    np.random.seed(seed)\n",
    "    data = pd.read_csv('data.csv')\n",
    "    df = pd.DataFrame(data)\n",
    "    df.columns = df.columns.str.lower().str.replace(' ', '_')\n",
    "    \n",
    "    df_train,df_val,df_test = tvt_data(df)\n",
    "    y_train, y_val, y_test = set_target(df_train, df_val, df_test)\n",
    "    base = ['engine_displacement', 'horsepower', 'vehicle_weight', 'model_year']\n",
    "\n",
    "    df_full_train = pd.concat([df_train, df_val])\n",
    "    df_full_train = df_full_train.reset_index(drop=True)\n",
    "    X_full_train = prepare_X(df_full_train)    \n",
    "\n",
    "    y_full_train = np.concatenate([y_train,y_val])\n",
    "\n",
    "    w_0, w = train_linear_regression_reg(X_full_train, y_full_train, reg)\n",
    "    \n",
    "    X_test = prepare_X(df_test)\n",
    "    y_pred = w_0 + X_test.dot(w)\n",
    "    \n",
    "    return y_test, y_pred\n",
    "\n",
    "y_test, y_pred = model_reg(9, .001)\n",
    "rmse(y_test, y_pred).item()"
   ]
  },
  {
   "cell_type": "markdown",
   "id": "bdbf8e3c-e569-4416-b38f-138a43edfa12",
   "metadata": {},
   "source": [
    "__ANSWER:__ The rmse is closest to 0.515."
   ]
  },
  {
   "cell_type": "code",
   "execution_count": null,
   "id": "7e7f7ceb-21cb-4c90-b0d2-da7f834551fc",
   "metadata": {},
   "outputs": [],
   "source": []
  }
 ],
 "metadata": {
  "kernelspec": {
   "display_name": "Python 3 (ipykernel)",
   "language": "python",
   "name": "python3"
  },
  "language_info": {
   "codemirror_mode": {
    "name": "ipython",
    "version": 3
   },
   "file_extension": ".py",
   "mimetype": "text/x-python",
   "name": "python",
   "nbconvert_exporter": "python",
   "pygments_lexer": "ipython3",
   "version": "3.12.3"
  }
 },
 "nbformat": 4,
 "nbformat_minor": 5
}
