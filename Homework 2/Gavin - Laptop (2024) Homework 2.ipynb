{
 "cells": [
  {
   "cell_type": "code",
   "execution_count": 166,
   "id": "f7139d5e-c014-46ad-be1e-3b58714aaabb",
   "metadata": {},
   "outputs": [
    {
     "name": "stdout",
     "output_type": "stream",
     "text": [
      "--2025-09-24 10:35:06--  https://raw.githubusercontent.com/alexeygrigorev/datasets/master/laptops.csv\n",
      "Resolving raw.githubusercontent.com (raw.githubusercontent.com)... 185.199.111.133, 185.199.108.133, 185.199.109.133, ...\n",
      "Connecting to raw.githubusercontent.com (raw.githubusercontent.com)|185.199.111.133|:443... connected.\n",
      "HTTP request sent, awaiting response... 200 OK\n",
      "Length: 298573 (292K) [text/plain]\n",
      "Saving to: ‘laptops.csv’\n",
      "\n",
      "laptops.csv         100%[===================>] 291.58K  --.-KB/s    in 0.02s   \n",
      "\n",
      "2025-09-24 10:35:06 (18.2 MB/s) - ‘laptops.csv’ saved [298573/298573]\n",
      "\n"
     ]
    }
   ],
   "source": [
    "import pandas as pd\n",
    "import numpy as np\n",
    "\n",
    "!wget -O laptops.csv https://raw.githubusercontent.com/alexeygrigorev/datasets/master/laptops.csv"
   ]
  },
  {
   "cell_type": "code",
   "execution_count": 167,
   "id": "44a5e987-5cae-4dd3-a5ae-fdd487e05e5d",
   "metadata": {},
   "outputs": [],
   "source": [
    "data = pd.read_csv('laptops.csv')"
   ]
  },
  {
   "cell_type": "code",
   "execution_count": 168,
   "id": "30f33d73-adca-49bf-b747-3594e9eac39f",
   "metadata": {},
   "outputs": [
    {
     "data": {
      "text/plain": [
       "Laptop           object\n",
       "Status           object\n",
       "Brand            object\n",
       "Model            object\n",
       "CPU              object\n",
       "RAM               int64\n",
       "Storage           int64\n",
       "Storage type     object\n",
       "GPU              object\n",
       "Screen          float64\n",
       "Touch            object\n",
       "Final Price     float64\n",
       "dtype: object"
      ]
     },
     "execution_count": 168,
     "metadata": {},
     "output_type": "execute_result"
    }
   ],
   "source": [
    "df = pd.DataFrame(data)\n",
    "df.dtypes"
   ]
  },
  {
   "cell_type": "code",
   "execution_count": 169,
   "id": "eced62ae-ebd5-4610-b96d-21ec173d77fc",
   "metadata": {},
   "outputs": [],
   "source": [
    "df.columns = df.columns.str.lower().str.replace(' ', '_')"
   ]
  },
  {
   "cell_type": "markdown",
   "id": "0958d5c2-852a-4495-9c7c-6eca60d54043",
   "metadata": {},
   "source": [
    "features = ['ram','storage','screen']\n",
    "target = ['final_price']"
   ]
  },
  {
   "cell_type": "markdown",
   "id": "8196b0cf-8343-4b6b-a858-ddf09def6ce6",
   "metadata": {},
   "source": [
    "## __Question 1__\n",
    "### There's one column with missing values. What is it?"
   ]
  },
  {
   "cell_type": "code",
   "execution_count": 170,
   "id": "e41a3b10-be8d-4793-b118-19e8fbfca18a",
   "metadata": {},
   "outputs": [
    {
     "data": {
      "text/plain": [
       "laptop             0\n",
       "status             0\n",
       "brand              0\n",
       "model              0\n",
       "cpu                0\n",
       "ram                0\n",
       "storage            0\n",
       "storage_type      42\n",
       "gpu             1371\n",
       "screen             4\n",
       "touch              0\n",
       "final_price        0\n",
       "dtype: int64"
      ]
     },
     "execution_count": 170,
     "metadata": {},
     "output_type": "execute_result"
    }
   ],
   "source": [
    "df.isnull().sum()"
   ]
  },
  {
   "cell_type": "markdown",
   "id": "01a7ff96-2bc2-4369-a850-5e3f8002b360",
   "metadata": {},
   "source": [
    "__ANSWER:__ From the columns selected in block [5], screen is missing values."
   ]
  },
  {
   "cell_type": "markdown",
   "id": "3d942b44-fb78-4d2c-bac8-5d0c01875224",
   "metadata": {},
   "source": [
    "## __Question 2__\n",
    "### What's the median (50% percentile) for variable 'ram'?"
   ]
  },
  {
   "cell_type": "code",
   "execution_count": 171,
   "id": "86296f47-91e0-4232-bddb-7ac67b8b6962",
   "metadata": {},
   "outputs": [
    {
     "data": {
      "text/plain": [
       "16.0"
      ]
     },
     "execution_count": 171,
     "metadata": {},
     "output_type": "execute_result"
    }
   ],
   "source": [
    "df['ram'].median()"
   ]
  },
  {
   "cell_type": "markdown",
   "id": "20b54c22-03b6-4a45-8dbd-c9b36291d4da",
   "metadata": {},
   "source": [
    "__ANSWER:__ 16 is the median value of 'ram.'"
   ]
  },
  {
   "cell_type": "markdown",
   "id": "3b8f83d4-4656-4535-a3d3-b649a6355784",
   "metadata": {},
   "source": [
    "## __Question 3__\n",
    "We need to deal with missing values for the column from Q1. <br>\n",
    "We have two options: fill it with 0 or with the mean of this variable.<br>\n",
    "Try both options. For each, train a linear regression model without regularization using the code from the lessons.<br>\n",
    "For computing the mean, use the training only!<br>\n",
    "Use the validation dataset to evaluate the models and compare the RMSE of each option.<br>\n",
    "Round the RMSE scores to 2 decimal digits using round(score, 2)<br>\n",
    "### Which option gives better RMSE?\n",
    "Options: With 0 / With mean / Both are equally good"
   ]
  },
  {
   "cell_type": "code",
   "execution_count": 172,
   "id": "e18c5aac-b1d6-4b6a-81cb-9250a6b1e061",
   "metadata": {},
   "outputs": [],
   "source": [
    "np.random.seed(42)\n",
    "\n",
    "def tvt_data(df):\n",
    "    n = len(df)\n",
    "    \n",
    "    n_val = int(0.2 * n)\n",
    "    n_test = int(0.2 * n)\n",
    "    n_train = n - (n_val + n_test)\n",
    "    \n",
    "    idx = np.arange(n)\n",
    "    np.random.shuffle(idx)\n",
    "    \n",
    "    df_shuffled = df.iloc[idx]\n",
    "    \n",
    "    df_train = df_shuffled.iloc[:n_train].copy()\n",
    "    df_val = df_shuffled.iloc[n_train:n_train+n_val].copy()\n",
    "    df_test = df_shuffled.iloc[n_train+n_val:].copy()\n",
    "    return df_train, df_val, df_test\n",
    "\n",
    "df_train, df_val, df_test = tvt_data(df)"
   ]
  },
  {
   "cell_type": "code",
   "execution_count": 173,
   "id": "88f68a02-0881-4114-aff0-41b63662289b",
   "metadata": {},
   "outputs": [],
   "source": [
    "def set_target(df_train, df_val, df_test):\n",
    "    y_train_orig = df_train.final_price.values\n",
    "    y_val_orig = df_val.final_price.values\n",
    "    y_test_orig = df_test.final_price.values\n",
    "    \n",
    "    y_train = df_train.final_price.values\n",
    "    y_val = df_val.final_price.values\n",
    "    y_test = df_test.final_price.values\n",
    "    \n",
    "    del df_train['final_price']\n",
    "    del df_val['final_price']\n",
    "    del df_test['final_price']\n",
    "    return y_train, y_val, y_test\n",
    "\n",
    "y_train, y_val, y_test = set_target(df_train, df_val, df_test)"
   ]
  },
  {
   "cell_type": "code",
   "execution_count": 174,
   "id": "c277a26a-5056-4363-a960-ddca4eb52e98",
   "metadata": {},
   "outputs": [],
   "source": [
    "base = ['ram','storage','screen']"
   ]
  },
  {
   "cell_type": "code",
   "execution_count": 175,
   "id": "c1730f1c-11c8-406d-ad70-0814349103b5",
   "metadata": {},
   "outputs": [],
   "source": [
    "def train_linear_regression(X, y):\n",
    "    ones = np.ones(X.shape[0])\n",
    "    X = np.column_stack([ones, X])\n",
    "\n",
    "    XTX = X.T.dot(X)\n",
    "    XTX_inv = np.linalg.inv(XTX)\n",
    "    w = XTX_inv.dot(X.T).dot(y)\n",
    "    \n",
    "    return w[0], w[1:]"
   ]
  },
  {
   "cell_type": "code",
   "execution_count": 176,
   "id": "c2d78295-75f7-4525-8f95-9c6068e66e00",
   "metadata": {},
   "outputs": [
    {
     "data": {
      "text/plain": [
       "np.float64(15.163534416086618)"
      ]
     },
     "execution_count": 176,
     "metadata": {},
     "output_type": "execute_result"
    }
   ],
   "source": [
    "mean = df_train['screen'].mean()\n",
    "mean"
   ]
  },
  {
   "cell_type": "code",
   "execution_count": 181,
   "id": "e82e9533-eac4-4a13-9ca0-d971ed93e14a",
   "metadata": {},
   "outputs": [],
   "source": [
    "def prepare_X(df):\n",
    "    df = df.copy()\n",
    "    features = base.copy()\n",
    "    \n",
    "    df_num = df[features]\n",
    "    df_num = df_num.fillna(15.16)\n",
    "    X = df_num.values\n",
    "    return X"
   ]
  },
  {
   "cell_type": "code",
   "execution_count": 182,
   "id": "3e2d4b6d-f621-4aab-bbb9-68980b8f0599",
   "metadata": {},
   "outputs": [],
   "source": [
    "X_train = prepare_X(df_train)\n",
    "w_0, w = train_linear_regression(X_train, y_train)"
   ]
  },
  {
   "cell_type": "code",
   "execution_count": 183,
   "id": "8d832b8e-489c-411f-93e6-7539052afcd8",
   "metadata": {},
   "outputs": [],
   "source": [
    "def rmse(y, y_pred):\n",
    "    error = y_pred - y\n",
    "    mse = (error ** 2).mean()\n",
    "    return np.sqrt(mse)"
   ]
  },
  {
   "cell_type": "code",
   "execution_count": 184,
   "id": "a54b7ffd-cb53-458f-b38c-d34958e0fcdf",
   "metadata": {},
   "outputs": [
    {
     "name": "stdout",
     "output_type": "stream",
     "text": [
      "train: 602.18\n",
      "validation: 600.26\n"
     ]
    }
   ],
   "source": [
    "X_train = prepare_X(df_train)\n",
    "w_0, w = train_linear_regression(X_train, y_train)\n",
    "\n",
    "y_pred = w_0 + X_train.dot(w)\n",
    "print('train:', rmse(y_train, y_pred).round(2))\n",
    "\n",
    "X_val = prepare_X(df_val)\n",
    "y_pred = w_0 + X_val.dot(w)\n",
    "print('validation:', rmse(y_val, y_pred).round(2))"
   ]
  },
  {
   "cell_type": "markdown",
   "id": "e107d33e-accd-40d4-ac73-1e6e9c1d1f2e",
   "metadata": {},
   "source": [
    "Replace nan values with 0:<br>\n",
    "train: 602.39<br>\n",
    "validation: 597.36\n",
    "\n",
    "Replace nan values with mean (15.13):<br>\n",
    "train: 602.18<br>\n",
    "validation: 600.26"
   ]
  },
  {
   "cell_type": "raw",
   "id": "3d66e840-3ac1-45c2-9f7c-0c497e1730f2",
   "metadata": {},
   "source": [
    "__Answer:__  The mean produces a smaller rmse."
   ]
  },
  {
   "cell_type": "markdown",
   "id": "e6481447-40b9-4747-b46f-cf93847a8c6d",
   "metadata": {},
   "source": [
    "## __Question 4__\n",
    "Now let's train a regularized linear regression.<br>\n",
    "For this question, fill the NAs with 0.<br>\n",
    "Try different values of r from this list: [0, 0.01, 0.1, 1, 5, 10, 100].<br>\n",
    "Use RMSE to evaluate the model on the validation dataset.<br>\n",
    "Round the RMSE scores to 2 decimal digits.<br>\n",
    "## Which r gives the best RMSE?\n",
    "If there are multiple options, select the smallest r.<br>\n",
    "Options: 0/ 0.01/ 1/ 10/ 100"
   ]
  },
  {
   "cell_type": "code",
   "execution_count": 185,
   "id": "7d39a585-fccb-4805-a982-a2bb36261049",
   "metadata": {},
   "outputs": [],
   "source": [
    "def train_linear_regression_reg(X, y, r=0.0):\n",
    "    ones = np.ones(X.shape[0])\n",
    "    X = np.column_stack([ones, X])\n",
    "\n",
    "    XTX = X.T.dot(X)\n",
    "    reg = r * np.eye(XTX.shape[0])\n",
    "    XTX = XTX + reg\n",
    "\n",
    "    XTX_inv = np.linalg.inv(XTX)\n",
    "    w = XTX_inv.dot(X.T).dot(y)\n",
    "    \n",
    "    return w[0], w[1:]"
   ]
  },
  {
   "cell_type": "code",
   "execution_count": 186,
   "id": "a8b99e28-9ad2-4a51-bae3-05892cd555a8",
   "metadata": {},
   "outputs": [
    {
     "name": "stdout",
     "output_type": "stream",
     "text": [
      "     0 600.264\n",
      "  0.01 600.257\n",
      "     1 599.672\n",
      "    10 598.069\n",
      "   100 597.606\n"
     ]
    }
   ],
   "source": [
    "X_train = prepare_X(df_train)\n",
    "X_val = prepare_X(df_val)\n",
    "\n",
    "for r in [0, 0.01, 1, 10, 100]:\n",
    "    w_0, w = train_linear_regression_reg(X_train, y_train, r=r)\n",
    "    y_pred = w_0 + X_val.dot(w)\n",
    "    print('%6s' %r, rmse(y_val, y_pred).round(3))"
   ]
  },
  {
   "cell_type": "markdown",
   "id": "d9c8678f-3bba-4323-81b1-7983108cec27",
   "metadata": {},
   "source": [
    "__Answer:__   r=1 gives the best rmse at a precision 3 decimal places."
   ]
  },
  {
   "cell_type": "markdown",
   "id": "9ec6470e-ba58-464a-a947-677074eb3722",
   "metadata": {},
   "source": [
    "## __Question 5__\n",
    "We used seed 42 for splitting the data. Let's find out how selecting the seed influences our score.<br>\n",
    "Try different seed values: [0, 1, 2, 3, 4, 5, 6, 7, 8, 9].<br>\n",
    "For each seed, do the train/validation/test split with 60%/20%/20% distribution.<br>\n",
    "Fill the missing values with 0 and train a model without regularization.<br>\n",
    "For each seed, evaluate the model on the validation dataset and collect the RMSE scores.<br>\n",
    "What's the standard deviation of all the scores? To compute the standard deviation, use np.std.<br>\n",
    "Round the result to 3 decimal digits (round(std, 3))<br>\n",
    "## What's the value of std?\n",
    "19.176/ 29.176/ 39.176/ 49.176"
   ]
  },
  {
   "cell_type": "code",
   "execution_count": 187,
   "id": "c6bae49a-1837-4ae7-911a-8b6f72b71047",
   "metadata": {},
   "outputs": [],
   "source": [
    "import matplotlib.pyplot as plt\n",
    "import seaborn as sns\n",
    "\n",
    "%matplotlib inline"
   ]
  },
  {
   "cell_type": "code",
   "execution_count": 188,
   "id": "c3d5c16e-7399-4d6a-99cb-5a4b070b7122",
   "metadata": {},
   "outputs": [
    {
     "data": {
      "text/plain": [
       "<Axes: xlabel='final_price', ylabel='Count'>"
      ]
     },
     "execution_count": 188,
     "metadata": {},
     "output_type": "execute_result"
    },
    {
     "data": {
      "image/png": "[encoded data removed]",
      "text/plain": [
       "<Figure size 640x480 with 1 Axes>"
      ]
     },
     "metadata": {},
     "output_type": "display_data"
    }
   ],
   "source": [
    "sns.histplot(df.final_price, bins=50)"
   ]
  },
  {
   "cell_type": "code",
   "execution_count": 189,
   "id": "2cb0b76e-e8ef-48fc-a051-0e4abc54ea9b",
   "metadata": {},
   "outputs": [],
   "source": [
    "def model(seed):\n",
    "    np.random.seed(seed)\n",
    "    data = pd.read_csv('laptops.csv')\n",
    "    df = pd.DataFrame(data)\n",
    "    df.columns = df.columns.str.lower().str.replace(' ', '_')\n",
    "    \n",
    "    df_train,df_val,df_test = tvt_data(df)\n",
    "    y_train, y_val, y_test = set_target(df_train, df_val, df_test)\n",
    "    base = ['ram','storage','screen']\n",
    "    \n",
    "    X_train = prepare_X(df_train)\n",
    "    w_0, w = train_linear_regression(X_train, y_train)\n",
    "    \n",
    "    y_pred = w_0 + X_train.dot(w)\n",
    "    rmse_train = rmse(y_train, y_pred).round(3)\n",
    "    #print('train:', rmse_train )\n",
    "    \n",
    "    X_val = prepare_X(df_val)\n",
    "    y_pred = w_0 + X_val.dot(w)\n",
    "    rmse_val = rmse(y_val, y_pred).round(3)\n",
    "    #print('validation:', rmse_val)\n",
    "    return rmse_train.item(), rmse_val.item()\n",
    "\n",
    "    "
   ]
  },
  {
   "cell_type": "code",
   "execution_count": 190,
   "id": "d469b7ee-715d-4f97-881c-289aad951e3e",
   "metadata": {},
   "outputs": [],
   "source": [
    "scores = []\n",
    "score = model(0)\n",
    "\n",
    "for seed in [0, 1, 2, 3, 4, 5, 6, 7, 8, 9]:\n",
    "    score = model(seed)\n",
    "    scores.append(score[1])"
   ]
  },
  {
   "cell_type": "code",
   "execution_count": 193,
   "id": "4770164a-6bc1-407a-8ce9-964244290080",
   "metadata": {},
   "outputs": [
    {
     "data": {
      "text/plain": [
       "28.949"
      ]
     },
     "execution_count": 193,
     "metadata": {},
     "output_type": "execute_result"
    }
   ],
   "source": [
    "np.std(scores).round(3).item()"
   ]
  },
  {
   "cell_type": "markdown",
   "id": "3aa42499-ca7d-4fd9-8f2a-286ae33b47cd",
   "metadata": {},
   "source": [
    "__Answer:__ My standard dev is closest to 29.176."
   ]
  },
  {
   "cell_type": "markdown",
   "id": "827dbac9-040e-438c-89d5-3b17c2f4cbc0",
   "metadata": {},
   "source": [
    "## __Question 6__\n",
    "Split the dataset like previously, use seed 9.<br>\n",
    "Combine train and validation datasets.<br>\n",
    "Fill the missing values with 0 and train a model with r=0.001.<br>\n",
    "## What's the RMSE on the test dataset?\n",
    "598.60/ 608.60/ 618.60/ 628.60"
   ]
  },
  {
   "cell_type": "code",
   "execution_count": 192,
   "id": "efa9a97e-9f09-4f63-ad01-3d8cc167abcf",
   "metadata": {},
   "outputs": [
    {
     "data": {
      "text/plain": [
       "611.7362444844765"
      ]
     },
     "execution_count": 192,
     "metadata": {},
     "output_type": "execute_result"
    }
   ],
   "source": [
    "def model_reg(seed, reg):\n",
    "    np.random.seed(seed)\n",
    "    data = pd.read_csv('laptops.csv')\n",
    "    df = pd.DataFrame(data)\n",
    "    df.columns = df.columns.str.lower().str.replace(' ', '_')\n",
    "    \n",
    "    df_train,df_val,df_test = tvt_data(df)\n",
    "    y_train, y_val, y_test = set_target(df_train, df_val, df_test)\n",
    "    base = ['screen']\n",
    "\n",
    "    df_full_train = pd.concat([df_train, df_val])\n",
    "    df_full_train = df_full_train.reset_index(drop=True)\n",
    "    X_full_train = prepare_X(df_full_train)    \n",
    "\n",
    "    y_full_train = np.concatenate([y_train,y_val])\n",
    "\n",
    "    w_0, w = train_linear_regression_reg(X_full_train, y_full_train, reg)\n",
    "    \n",
    "    X_test = prepare_X(df_test)\n",
    "    y_pred = w_0 + X_test.dot(w)\n",
    "    \n",
    "    return y_test, y_pred\n",
    "\n",
    "y_test, y_pred = model_reg(9, .001)\n",
    "rmse(y_test, y_pred).item()"
   ]
  },
  {
   "cell_type": "markdown",
   "id": "1f172b4f-2191-4f14-9a38-0ef340bea673",
   "metadata": {},
   "source": [
    "__Answer:__ My rmse is closest to 608.60."
   ]
  },
  {
   "cell_type": "code",
   "execution_count": null,
   "id": "088bee44-d1c3-4233-adf5-71038af1b6e9",
   "metadata": {},
   "outputs": [],
   "source": []
  }
 ],
 "metadata": {
  "kernelspec": {
   "display_name": "Python 3 (ipykernel)",
   "language": "python",
   "name": "python3"
  },
  "language_info": {
   "codemirror_mode": {
    "name": "ipython",
    "version": 3
   },
   "file_extension": ".py",
   "mimetype": "text/x-python",
   "name": "python",
   "nbconvert_exporter": "python",
   "pygments_lexer": "ipython3",
   "version": "3.12.3"
  }
 },
 "nbformat": 4,
 "nbformat_minor": 5
}
