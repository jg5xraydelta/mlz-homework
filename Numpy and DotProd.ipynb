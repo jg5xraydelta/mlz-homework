{
 "cells": [
  {
   "cell_type": "code",
   "execution_count": 2,
   "id": "cf31e0a9-9294-4c5c-9c55-e0d53c793dd5",
   "metadata": {},
   "outputs": [],
   "source": [
    "import numpy as np"
   ]
  },
  {
   "cell_type": "code",
   "execution_count": 3,
   "id": "27121442-5a47-42ab-aabb-41c6208f79b1",
   "metadata": {},
   "outputs": [
    {
     "data": {
      "text/plain": [
       "array([0., 0., 0., 0., 0., 0., 0., 0., 0., 0.])"
      ]
     },
     "execution_count": 3,
     "metadata": {},
     "output_type": "execute_result"
    }
   ],
   "source": [
    "np.zeros(10)"
   ]
  },
  {
   "cell_type": "code",
   "execution_count": 4,
   "id": "46670a90-9a27-487c-8163-f5b09aadf405",
   "metadata": {},
   "outputs": [
    {
     "data": {
      "text/plain": [
       "array([1., 1., 1., 1., 1.])"
      ]
     },
     "execution_count": 4,
     "metadata": {},
     "output_type": "execute_result"
    }
   ],
   "source": [
    "np.ones(5)"
   ]
  },
  {
   "cell_type": "code",
   "execution_count": 5,
   "id": "9fc02f50-fa0a-4a79-95b6-cd508a158ff2",
   "metadata": {},
   "outputs": [
    {
     "data": {
      "text/plain": [
       "array([8, 8, 8])"
      ]
     },
     "execution_count": 5,
     "metadata": {},
     "output_type": "execute_result"
    }
   ],
   "source": [
    "np.full(3,8)"
   ]
  },
  {
   "cell_type": "code",
   "execution_count": 6,
   "id": "ab77549c-34ce-4908-b259-a03dd9d8e157",
   "metadata": {},
   "outputs": [],
   "source": [
    "a = np.array([1,2,3,5,7,12])"
   ]
  },
  {
   "cell_type": "code",
   "execution_count": 7,
   "id": "31a39f55-094b-4d1c-9e09-8ac293835182",
   "metadata": {},
   "outputs": [
    {
     "data": {
      "text/plain": [
       "np.int64(5)"
      ]
     },
     "execution_count": 7,
     "metadata": {},
     "output_type": "execute_result"
    }
   ],
   "source": [
    "a[3]"
   ]
  },
  {
   "cell_type": "code",
   "execution_count": 8,
   "id": "46f3cf49-fe73-4436-bb1a-f7e84bfbaca8",
   "metadata": {},
   "outputs": [
    {
     "data": {
      "text/plain": [
       "array([ 1,  2,  3,  5,  7, 12])"
      ]
     },
     "execution_count": 8,
     "metadata": {},
     "output_type": "execute_result"
    }
   ],
   "source": [
    "a"
   ]
  },
  {
   "cell_type": "code",
   "execution_count": 9,
   "id": "2ae4ec9b-34bf-4c0a-aa78-ce24a9ffbbac",
   "metadata": {},
   "outputs": [],
   "source": [
    "a[2] = 10"
   ]
  },
  {
   "cell_type": "code",
   "execution_count": 10,
   "id": "055f0fff-3af5-47df-ae66-ba3afa995bb7",
   "metadata": {},
   "outputs": [
    {
     "data": {
      "text/plain": [
       "array([3, 4, 5, 6, 7, 8, 9])"
      ]
     },
     "execution_count": 10,
     "metadata": {},
     "output_type": "execute_result"
    }
   ],
   "source": [
    "np.arange(3,10)"
   ]
  },
  {
   "cell_type": "code",
   "execution_count": 11,
   "id": "daef864a-c671-4041-beb2-eee0f0ea6f2c",
   "metadata": {},
   "outputs": [
    {
     "data": {
      "text/plain": [
       "array([  0.,  10.,  20.,  30.,  40.,  50.,  60.,  70.,  80.,  90., 100.])"
      ]
     },
     "execution_count": 11,
     "metadata": {},
     "output_type": "execute_result"
    }
   ],
   "source": [
    "np.linspace(0,100,11)"
   ]
  },
  {
   "cell_type": "code",
   "execution_count": 12,
   "id": "7c71d274-b150-42c6-8f59-1baddd5c9766",
   "metadata": {},
   "outputs": [
    {
     "data": {
      "text/plain": [
       "array([[0., 0.],\n",
       "       [0., 0.],\n",
       "       [0., 0.],\n",
       "       [0., 0.],\n",
       "       [0., 0.]])"
      ]
     },
     "execution_count": 12,
     "metadata": {},
     "output_type": "execute_result"
    }
   ],
   "source": [
    "np.zeros((5,2))"
   ]
  },
  {
   "cell_type": "code",
   "execution_count": 13,
   "id": "5fc92e1b-e996-4f6e-b2ae-26d5511bcc1c",
   "metadata": {},
   "outputs": [],
   "source": [
    "n = np.array([\n",
    "    [1,2,3],\n",
    "    [4,5,6],\n",
    "    [7,8,9]])\n"
   ]
  },
  {
   "cell_type": "code",
   "execution_count": 14,
   "id": "9234948b-3313-4546-8ab3-382aa1694f87",
   "metadata": {},
   "outputs": [],
   "source": [
    "n[0,1]=20"
   ]
  },
  {
   "cell_type": "code",
   "execution_count": 15,
   "id": "38feeb6d-8916-4f2e-908f-ce285b8ccfa9",
   "metadata": {},
   "outputs": [
    {
     "data": {
      "text/plain": [
       "array([[ 1, 20,  3],\n",
       "       [ 4,  5,  6],\n",
       "       [ 7,  8,  9]])"
      ]
     },
     "execution_count": 15,
     "metadata": {},
     "output_type": "execute_result"
    }
   ],
   "source": [
    "n"
   ]
  },
  {
   "cell_type": "code",
   "execution_count": 16,
   "id": "743d6775-f53c-464a-b21c-83740fb1231b",
   "metadata": {},
   "outputs": [
    {
     "data": {
      "text/plain": [
       "array([7, 8, 9])"
      ]
     },
     "execution_count": 16,
     "metadata": {},
     "output_type": "execute_result"
    }
   ],
   "source": [
    "n[2]"
   ]
  },
  {
   "cell_type": "code",
   "execution_count": 17,
   "id": "f8851089-31d7-41b7-a746-32f53c4e480d",
   "metadata": {},
   "outputs": [],
   "source": [
    "n[2]=[1,1,1]"
   ]
  },
  {
   "cell_type": "code",
   "execution_count": 18,
   "id": "9908891a-4467-45bf-9372-19f1c082bc59",
   "metadata": {},
   "outputs": [
    {
     "data": {
      "text/plain": [
       "array([[ 1, 20,  3],\n",
       "       [ 4,  5,  6],\n",
       "       [ 1,  1,  1]])"
      ]
     },
     "execution_count": 18,
     "metadata": {},
     "output_type": "execute_result"
    }
   ],
   "source": [
    "n"
   ]
  },
  {
   "cell_type": "code",
   "execution_count": 19,
   "id": "ab3531c0-70d5-4bd6-9455-dcc5eecb8a9a",
   "metadata": {},
   "outputs": [],
   "source": [
    "n[:,2] = [1,2,1]"
   ]
  },
  {
   "cell_type": "code",
   "execution_count": 20,
   "id": "666e0c5b-793c-49e6-a619-db1a2576d7c2",
   "metadata": {},
   "outputs": [
    {
     "data": {
      "text/plain": [
       "array([[ 1, 20,  1],\n",
       "       [ 4,  5,  2],\n",
       "       [ 1,  1,  1]])"
      ]
     },
     "execution_count": 20,
     "metadata": {},
     "output_type": "execute_result"
    }
   ],
   "source": [
    "n"
   ]
  },
  {
   "cell_type": "code",
   "execution_count": 21,
   "id": "1bd61510-7923-42f0-a67d-3d26d7dfcc8c",
   "metadata": {},
   "outputs": [
    {
     "data": {
      "text/plain": [
       "array([[0.4359949 , 0.02592623],\n",
       "       [0.54966248, 0.43532239],\n",
       "       [0.4203678 , 0.33033482],\n",
       "       [0.20464863, 0.61927097],\n",
       "       [0.29965467, 0.26682728]])"
      ]
     },
     "execution_count": 21,
     "metadata": {},
     "output_type": "execute_result"
    }
   ],
   "source": [
    "np.random.seed(2)\n",
    "np.random.rand(5,2)"
   ]
  },
  {
   "cell_type": "code",
   "execution_count": 22,
   "id": "de863b53-a7fe-43cd-8ae4-bf54deeae73f",
   "metadata": {},
   "outputs": [
    {
     "data": {
      "text/plain": [
       "array([[ 0.55145404,  2.29220801],\n",
       "       [ 0.04153939, -1.11792545],\n",
       "       [ 0.53905832, -0.5961597 ],\n",
       "       [-0.0191305 ,  1.17500122],\n",
       "       [-0.74787095,  0.00902525]])"
      ]
     },
     "execution_count": 22,
     "metadata": {},
     "output_type": "execute_result"
    }
   ],
   "source": [
    "np.random.randn(5,2)"
   ]
  },
  {
   "cell_type": "code",
   "execution_count": 23,
   "id": "f25144ab-054d-4aa6-83d0-d9b9f807597c",
   "metadata": {},
   "outputs": [
    {
     "data": {
      "text/plain": [
       "array([0, 1, 2, 3, 4])"
      ]
     },
     "execution_count": 23,
     "metadata": {},
     "output_type": "execute_result"
    }
   ],
   "source": [
    "a = np.arange(5)\n",
    "a"
   ]
  },
  {
   "cell_type": "code",
   "execution_count": 24,
   "id": "e597455b-e5f9-402b-9d60-19cf5b059167",
   "metadata": {},
   "outputs": [
    {
     "data": {
      "text/plain": [
       "array([1, 2, 3, 4, 5])"
      ]
     },
     "execution_count": 24,
     "metadata": {},
     "output_type": "execute_result"
    }
   ],
   "source": [
    "a + 1"
   ]
  },
  {
   "cell_type": "code",
   "execution_count": 25,
   "id": "4fd4e5e2-8ce1-4d37-aa7c-b6f3c48d283f",
   "metadata": {},
   "outputs": [
    {
     "name": "stdout",
     "output_type": "stream",
     "text": [
      "[3 1 2 0 4]\n"
     ]
    },
    {
     "data": {
      "text/plain": [
       "array([0, 0, 0, 1, 0])"
      ]
     },
     "execution_count": 25,
     "metadata": {},
     "output_type": "execute_result"
    }
   ],
   "source": [
    "b = np.random.randint(0,6,(1,5))[0]\n",
    "print(b)\n",
    "ab = np.where(a>b,True,0)\n",
    "ab"
   ]
  },
  {
   "cell_type": "markdown",
   "id": "caba76af-dd75-4d3f-812c-c34e7346f42b",
   "metadata": {},
   "source": [
    "a = np.arange(5)\n",
    "for i in a:\n",
    "    print(i)"
   ]
  },
  {
   "cell_type": "code",
   "execution_count": 26,
   "id": "b7882100-d9b4-4c65-959c-c1f0c3a684e0",
   "metadata": {},
   "outputs": [
    {
     "data": {
      "text/plain": [
       "np.int64(4)"
      ]
     },
     "execution_count": 26,
     "metadata": {},
     "output_type": "execute_result"
    }
   ],
   "source": [
    "a.max()"
   ]
  },
  {
   "cell_type": "code",
   "execution_count": 55,
   "id": "4e0a7e23-c12b-46e5-9578-6b926e776401",
   "metadata": {},
   "outputs": [],
   "source": [
    "U = np.random.randint(0,10,(4,3))\n",
    "V = np.random.randint(0,10,(3,5))"
   ]
  },
  {
   "cell_type": "code",
   "execution_count": 28,
   "id": "2b3e85ac-cfee-4263-b3c4-90f655e5e4c4",
   "metadata": {},
   "outputs": [
    {
     "name": "stdout",
     "output_type": "stream",
     "text": [
      "[[2 4 1]\n",
      " [7 8 2]\n",
      " [9 8 7]\n",
      " [1 6 8]]\n",
      "[[5 9 9 9]\n",
      " [3 0 0 2]\n",
      " [8 8 2 9]]\n"
     ]
    }
   ],
   "source": [
    "print(U)\n",
    "print(V)"
   ]
  },
  {
   "cell_type": "code",
   "execution_count": 56,
   "id": "b4ca402d-916a-4ebb-8aff-7c45f45adb76",
   "metadata": {},
   "outputs": [
    {
     "data": {
      "text/plain": [
       "array([[104., 107.,  60.,  26.,  67.],\n",
       "       [ 84., 105.,  66.,  30.,  57.],\n",
       "       [ 64.,  89.,  52.,  16.,  31.],\n",
       "       [ 64.,  95.,  68.,  36.,  53.]])"
      ]
     },
     "execution_count": 56,
     "metadata": {},
     "output_type": "execute_result"
    }
   ],
   "source": [
    "def matrix_matrix_multiplication(U,V):\n",
    "    assert U.shape[1] == V.shape[0]\n",
    "\n",
    "    result = np.zeros((U.shape[0],V.shape[1]))\n",
    "    for a in range(U.shape[0]):\n",
    "        for b in range(V.shape[1]):\n",
    "            for i in range(U.shape[1]):\n",
    "                #print(U[a],V[:,b])\n",
    "                result[a,b] = result[a,b] + U[a][i]*V[:,b][i]\n",
    "    return result            \n",
    "            \n",
    "\n",
    "m = matrix_matrix_multiplication(U,V)\n",
    "m\n"
   ]
  },
  {
   "cell_type": "code",
   "execution_count": 57,
   "id": "383dd1d6-1024-4b93-9c9b-d2e461ffe14a",
   "metadata": {},
   "outputs": [
    {
     "data": {
      "text/plain": [
       "array([[104, 107,  60,  26,  67],\n",
       "       [ 84, 105,  66,  30,  57],\n",
       "       [ 64,  89,  52,  16,  31],\n",
       "       [ 64,  95,  68,  36,  53]])"
      ]
     },
     "execution_count": 57,
     "metadata": {},
     "output_type": "execute_result"
    }
   ],
   "source": [
    "U.dot(V)"
   ]
  },
  {
   "cell_type": "code",
   "execution_count": 43,
   "id": "185ae3a7-649b-43d2-9f78-f889564c062f",
   "metadata": {},
   "outputs": [
    {
     "data": {
      "text/plain": [
       "array([[163, 218, 158],\n",
       "       [  8,  24,  19],\n",
       "       [ 99, 166, 110]])"
      ]
     },
     "execution_count": 43,
     "metadata": {},
     "output_type": "execute_result"
    }
   ],
   "source": [
    "V.dot(U)"
   ]
  },
  {
   "cell_type": "code",
   "execution_count": null,
   "id": "a09d6f4f-8d8f-4f7a-8ce3-e1c5bbc3c315",
   "metadata": {},
   "outputs": [],
   "source": []
  }
 ],
 "metadata": {
  "kernelspec": {
   "display_name": "Python 3 (ipykernel)",
   "language": "python",
   "name": "python3"
  },
  "language_info": {
   "codemirror_mode": {
    "name": "ipython",
    "version": 3
   },
   "file_extension": ".py",
   "mimetype": "text/x-python",
   "name": "python",
   "nbconvert_exporter": "python",
   "pygments_lexer": "ipython3",
   "version": "3.12.3"
  }
 },
 "nbformat": 4,
 "nbformat_minor": 5
}
